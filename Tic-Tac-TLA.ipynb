{
 "cells": [
  {
   "cell_type": "markdown",
   "id": "8d232333",
   "metadata": {},
   "source": [
    "https://medium.com/@dr.junghoonson/simplest-way-to-publish-your-jupyter-notebooks-on-the-open-web-using-jupyter-book-and-github-pages-eea144031d6f"
   ]
  },
  {
   "cell_type": "code",
   "execution_count": 5,
   "id": "23633cec",
   "metadata": {},
   "outputs": [],
   "source": [
    "from projection import Lens, parse_tla_dot\n",
    "\n",
    "output_path = \"output/tictactoe.dot\"\n",
    "\n",
    "with open(output_path) as f:\n",
    "    graph = parse_tla_dot(f.read())"
   ]
  },
  {
   "cell_type": "code",
   "execution_count": 23,
   "id": "bb331690",
   "metadata": {},
   "outputs": [
    {
     "data": {
      "image/svg+xml": [
       "<svg xmlns=\"http://www.w3.org/2000/svg\" xmlns:xlink=\"http://www.w3.org/1999/xlink\" width=\"152pt\" height=\"44pt\" viewBox=\"0.00 0.00 152.00 44.00\">\n",
       "<g id=\"graph0\" class=\"graph\" transform=\"scale(1 1) rotate(0) translate(4 40)\">\n",
       "<title>%3</title>\n",
       "<polygon fill=\"white\" stroke=\"transparent\" points=\"-4,4 -4,-40 148,-40 148,4 -4,4\"/>\n",
       "<!-- X -->\n",
       "<g id=\"node1\" class=\"node\">\n",
       "<title>X</title>\n",
       "<ellipse fill=\"lightgrey\" stroke=\"black\" cx=\"27\" cy=\"-18\" rx=\"27\" ry=\"18\"/>\n",
       "<text text-anchor=\"middle\" x=\"27\" y=\"-14.3\" font-family=\"Times,serif\" font-size=\"14.00\">X</text>\n",
       "</g>\n",
       "<!-- O -->\n",
       "<g id=\"node2\" class=\"node\">\n",
       "<title>O</title>\n",
       "<ellipse fill=\"none\" stroke=\"black\" cx=\"117\" cy=\"-18\" rx=\"27\" ry=\"18\"/>\n",
       "<text text-anchor=\"middle\" x=\"117\" y=\"-14.3\" font-family=\"Times,serif\" font-size=\"14.00\">O</text>\n",
       "</g>\n",
       "<!-- X&#45;&gt;O -->\n",
       "<g id=\"edge1\" class=\"edge\">\n",
       "<title>X-&gt;O</title>\n",
       "<path fill=\"none\" stroke=\"black\" d=\"M52.51,-11.88C61.4,-11.27 71.62,-11.1 81.22,-11.38\"/>\n",
       "<polygon fill=\"black\" stroke=\"black\" points=\"81.16,-14.88 91.31,-11.86 81.49,-7.89 81.16,-14.88\"/>\n",
       "</g>\n",
       "<!-- O&#45;&gt;X -->\n",
       "<g id=\"edge2\" class=\"edge\">\n",
       "<title>O-&gt;X</title>\n",
       "<path fill=\"none\" stroke=\"black\" stroke-dasharray=\"5,2\" d=\"M91.31,-24.14C82.41,-24.74 72.18,-24.9 62.59,-24.61\"/>\n",
       "<polygon fill=\"black\" stroke=\"black\" points=\"62.67,-21.11 52.51,-24.12 62.33,-28.1 62.67,-21.11\"/>\n",
       "</g>\n",
       "</g>\n",
       "</svg>"
      ],
      "text/plain": [
       "<IPython.core.display.SVG object>"
      ]
     },
     "execution_count": 23,
     "metadata": {},
     "output_type": "execute_result"
    }
   ],
   "source": [
    "class TurnLens(Lens):\n",
    "    filter_self_actions = True\n",
    "\n",
    "    def projection(self, state):\n",
    "        return state[\"turn\"]\n",
    "\n",
    "TurnLens().focus(graph).show()\n"
   ]
  },
  {
   "cell_type": "code",
   "execution_count": 24,
   "id": "fd86c872",
   "metadata": {},
   "outputs": [
    {
     "data": {
      "image/svg+xml": [
       "<svg xmlns=\"http://www.w3.org/2000/svg\" xmlns:xlink=\"http://www.w3.org/1999/xlink\" width=\"169pt\" height=\"98pt\" viewBox=\"0.00 0.00 169.49 98.00\">\n",
       "<g id=\"graph0\" class=\"graph\" transform=\"scale(1 1) rotate(0) translate(4 94)\">\n",
       "<title>%3</title>\n",
       "<polygon fill=\"white\" stroke=\"transparent\" points=\"-4,4 -4,-94 165.49,-94 165.49,4 -4,4\"/>\n",
       "<!-- ? -->\n",
       "<g id=\"node1\" class=\"node\">\n",
       "<title>?</title>\n",
       "<ellipse fill=\"lightgrey\" stroke=\"black\" cx=\"27\" cy=\"-45\" rx=\"27\" ry=\"18\"/>\n",
       "<text text-anchor=\"middle\" x=\"27\" y=\"-41.3\" font-family=\"Times,serif\" font-size=\"14.00\">?</text>\n",
       "</g>\n",
       "<!-- Win -->\n",
       "<g id=\"node2\" class=\"node\">\n",
       "<title>Win</title>\n",
       "<ellipse fill=\"none\" stroke=\"black\" cx=\"125.75\" cy=\"-72\" rx=\"28.7\" ry=\"18\"/>\n",
       "<text text-anchor=\"middle\" x=\"125.75\" y=\"-68.3\" font-family=\"Times,serif\" font-size=\"14.00\">Win</text>\n",
       "</g>\n",
       "<!-- ?&#45;&gt;Win -->\n",
       "<g id=\"edge1\" class=\"edge\">\n",
       "<title>?-&gt;Win</title>\n",
       "<path fill=\"none\" stroke=\"black\" stroke-dasharray=\"5,2\" d=\"M52.41,-51.81C63.61,-54.94 77.1,-58.7 89.37,-62.13\"/>\n",
       "<polygon fill=\"black\" stroke=\"black\" points=\"88.75,-65.59 99.33,-64.91 90.64,-58.85 88.75,-65.59\"/>\n",
       "</g>\n",
       "<!-- Draw -->\n",
       "<g id=\"node3\" class=\"node\">\n",
       "<title>Draw</title>\n",
       "<ellipse fill=\"none\" stroke=\"black\" cx=\"125.75\" cy=\"-18\" rx=\"36\" ry=\"18\"/>\n",
       "<text text-anchor=\"middle\" x=\"125.75\" y=\"-14.3\" font-family=\"Times,serif\" font-size=\"14.00\">Draw</text>\n",
       "</g>\n",
       "<!-- ?&#45;&gt;Draw -->\n",
       "<g id=\"edge2\" class=\"edge\">\n",
       "<title>?-&gt;Draw</title>\n",
       "<path fill=\"none\" stroke=\"black\" stroke-dasharray=\"5,2\" d=\"M52.41,-38.19C62.1,-35.48 73.5,-32.3 84.35,-29.27\"/>\n",
       "<polygon fill=\"black\" stroke=\"black\" points=\"85.4,-32.61 94.09,-26.55 83.52,-25.87 85.4,-32.61\"/>\n",
       "</g>\n",
       "</g>\n",
       "</svg>"
      ],
      "text/plain": [
       "<IPython.core.display.SVG object>"
      ]
     },
     "execution_count": 24,
     "metadata": {},
     "output_type": "execute_result"
    }
   ],
   "source": [
    "class ResultLens(Lens):\n",
    "    filter_self_actions = True\n",
    "\n",
    "    def projection(self, state):\n",
    "        return state[\"result\"]\n",
    "\n",
    "ResultLens().focus(graph).show()"
   ]
  }
 ],
 "metadata": {
  "kernelspec": {
   "display_name": "tic-tac-tla-BsbfKQhp",
   "language": "python",
   "name": "python3"
  },
  "language_info": {
   "codemirror_mode": {
    "name": "ipython",
    "version": 3
   },
   "file_extension": ".py",
   "mimetype": "text/x-python",
   "name": "python",
   "nbconvert_exporter": "python",
   "pygments_lexer": "ipython3",
   "version": "3.9.2"
  }
 },
 "nbformat": 4,
 "nbformat_minor": 5
}
