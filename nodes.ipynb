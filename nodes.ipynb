{
 "cells": [
  {
   "cell_type": "code",
   "execution_count": 11,
   "metadata": {},
   "outputs": [],
   "source": [
    "from projection import Lens, IdentityLens, parse_tla_dot\n",
    "\n",
    "with open(\"output/nodes.dot\") as f:\n",
    "    graph = parse_tla_dot(f.read())\n",
    "\n",
    "class AllNodeLens(Lens):\n",
    "    filter_self_actions = True\n",
    "\n",
    "    def __init__(self, e):\n",
    "        self.e = e\n",
    "\n",
    "    def projection(self, state):\n",
    "        return state[\"node\"]\n",
    "\n",
    "    def action_label(self, action):\n",
    "        if action != self.e:\n",
    "            return None\n",
    "        return action\n",
    "\n",
    "class GroupNodeLens(AllNodeLens):\n",
    "    def projection(self, state):\n",
    "        return state[\"node\"][0] # Take first character, the letter\n"
   ]
  },
  {
   "cell_type": "code",
   "execution_count": 2,
   "metadata": {},
   "outputs": [
    {
     "data": {
      "image/svg+xml": [
       "<svg xmlns=\"http://www.w3.org/2000/svg\" xmlns:xlink=\"http://www.w3.org/1999/xlink\" width=\"161pt\" height=\"271pt\" viewBox=\"0.00 0.00 161.00 271.00\">\n",
       "<g id=\"graph0\" class=\"graph\" transform=\"scale(1 1) rotate(0) translate(4 267)\">\n",
       "<title>%3</title>\n",
       "<polygon fill=\"white\" stroke=\"transparent\" points=\"-4,4 -4,-267 157,-267 157,4 -4,4\"/>\n",
       "<!-- A1 -->\n",
       "<g id=\"node1\" class=\"node\">\n",
       "<title>A1</title>\n",
       "<ellipse fill=\"lightgrey\" stroke=\"black\" stroke-width=\"2\" cx=\"27\" cy=\"-83\" rx=\"27\" ry=\"18\"/>\n",
       "<text text-anchor=\"middle\" x=\"27\" y=\"-79.3\" font-family=\"Times,serif\" font-size=\"14.00\">A1</text>\n",
       "</g>\n",
       "<!-- B1 -->\n",
       "<g id=\"node4\" class=\"node\">\n",
       "<title>B1</title>\n",
       "<ellipse fill=\"none\" stroke=\"black\" stroke-width=\"2\" cx=\"126\" cy=\"-94\" rx=\"27\" ry=\"18\"/>\n",
       "<text text-anchor=\"middle\" x=\"126\" y=\"-90.3\" font-family=\"Times,serif\" font-size=\"14.00\">B1</text>\n",
       "</g>\n",
       "<!-- A1&#45;&gt;B1 -->\n",
       "<g id=\"edge1\" class=\"edge\">\n",
       "<title>A1-&gt;B1</title>\n",
       "<path fill=\"none\" stroke=\"gray\" d=\"M53.74,-85.92C64.59,-87.15 77.41,-88.6 89.16,-89.94\"/>\n",
       "<polygon fill=\"gray\" stroke=\"gray\" points=\"88.81,-93.42 99.14,-91.07 89.6,-86.46 88.81,-93.42\"/>\n",
       "<text text-anchor=\"middle\" x=\"76.5\" y=\"-91.8\" font-family=\"Times,serif\" font-size=\"14.00\">e</text>\n",
       "</g>\n",
       "<!-- B2 -->\n",
       "<g id=\"node5\" class=\"node\">\n",
       "<title>B2</title>\n",
       "<ellipse fill=\"none\" stroke=\"black\" stroke-width=\"2\" cx=\"126\" cy=\"-29\" rx=\"27\" ry=\"18\"/>\n",
       "<text text-anchor=\"middle\" x=\"126\" y=\"-25.3\" font-family=\"Times,serif\" font-size=\"14.00\">B2</text>\n",
       "</g>\n",
       "<!-- A1&#45;&gt;B2 -->\n",
       "<g id=\"edge2\" class=\"edge\">\n",
       "<title>A1-&gt;B2</title>\n",
       "<path fill=\"none\" stroke=\"gray\" d=\"M48.57,-71.55C62.3,-63.91 80.55,-53.75 95.77,-45.27\"/>\n",
       "<polygon fill=\"gray\" stroke=\"gray\" points=\"97.76,-48.17 104.79,-40.25 94.35,-42.06 97.76,-48.17\"/>\n",
       "<text text-anchor=\"middle\" x=\"76.5\" y=\"-60.8\" font-family=\"Times,serif\" font-size=\"14.00\">e</text>\n",
       "</g>\n",
       "<!-- A2 -->\n",
       "<g id=\"node2\" class=\"node\">\n",
       "<title>A2</title>\n",
       "<ellipse fill=\"lightgrey\" stroke=\"black\" stroke-width=\"2\" cx=\"27\" cy=\"-18\" rx=\"27\" ry=\"18\"/>\n",
       "<text text-anchor=\"middle\" x=\"27\" y=\"-14.3\" font-family=\"Times,serif\" font-size=\"14.00\">A2</text>\n",
       "</g>\n",
       "<!-- A2&#45;&gt;B2 -->\n",
       "<g id=\"edge3\" class=\"edge\">\n",
       "<title>A2-&gt;B2</title>\n",
       "<path fill=\"none\" stroke=\"black\" d=\"M54.22,-17.44C62.79,-17.53 72.32,-17.94 81,-19 84.09,-19.38 87.28,-19.88 90.46,-20.45\"/>\n",
       "<polygon fill=\"black\" stroke=\"black\" points=\"89.99,-23.93 100.49,-22.5 91.39,-17.07 89.99,-23.93\"/>\n",
       "<text text-anchor=\"middle\" x=\"76.5\" y=\"-22.8\" font-family=\"Times,serif\" font-size=\"14.00\">e</text>\n",
       "</g>\n",
       "<!-- A3 -->\n",
       "<g id=\"node3\" class=\"node\">\n",
       "<title>A3</title>\n",
       "<ellipse fill=\"lightgrey\" stroke=\"black\" stroke-width=\"2\" cx=\"27\" cy=\"-137\" rx=\"27\" ry=\"18\"/>\n",
       "<text text-anchor=\"middle\" x=\"27\" y=\"-133.3\" font-family=\"Times,serif\" font-size=\"14.00\">A3</text>\n",
       "</g>\n",
       "<!-- C1 -->\n",
       "<g id=\"node6\" class=\"node\">\n",
       "<title>C1</title>\n",
       "<ellipse fill=\"none\" stroke=\"black\" stroke-width=\"2\" cx=\"27\" cy=\"-191\" rx=\"27\" ry=\"18\"/>\n",
       "<text text-anchor=\"middle\" x=\"27\" y=\"-187.3\" font-family=\"Times,serif\" font-size=\"14.00\">C1</text>\n",
       "</g>\n",
       "<!-- B3 -->\n",
       "<g id=\"node7\" class=\"node\">\n",
       "<title>B3</title>\n",
       "<ellipse fill=\"none\" stroke=\"black\" stroke-width=\"2\" cx=\"27\" cy=\"-245\" rx=\"27\" ry=\"18\"/>\n",
       "<text text-anchor=\"middle\" x=\"27\" y=\"-241.3\" font-family=\"Times,serif\" font-size=\"14.00\">B3</text>\n",
       "</g>\n",
       "</g>\n",
       "</svg>"
      ],
      "text/plain": [
       "<IPython.core.display.SVG object>"
      ]
     },
     "execution_count": 2,
     "metadata": {},
     "output_type": "execute_result"
    }
   ],
   "source": [
    "AllNodeLens(\"e\").focus(graph).show()"
   ]
  },
  {
   "cell_type": "code",
   "execution_count": 3,
   "metadata": {},
   "outputs": [
    {
     "data": {
      "image/svg+xml": [
       "<svg xmlns=\"http://www.w3.org/2000/svg\" xmlns:xlink=\"http://www.w3.org/1999/xlink\" width=\"161pt\" height=\"98pt\" viewBox=\"0.00 0.00 161.00 98.00\">\n",
       "<g id=\"graph0\" class=\"graph\" transform=\"scale(1 1) rotate(0) translate(4 94)\">\n",
       "<title>%3</title>\n",
       "<polygon fill=\"white\" stroke=\"transparent\" points=\"-4,4 -4,-94 157,-94 157,4 -4,4\"/>\n",
       "<!-- A -->\n",
       "<g id=\"node1\" class=\"node\">\n",
       "<title>A</title>\n",
       "<ellipse fill=\"lightgrey\" stroke=\"black\" cx=\"27\" cy=\"-18\" rx=\"27\" ry=\"18\"/>\n",
       "<text text-anchor=\"middle\" x=\"27\" y=\"-14.3\" font-family=\"Times,serif\" font-size=\"14.00\">A</text>\n",
       "</g>\n",
       "<!-- B -->\n",
       "<g id=\"node2\" class=\"node\">\n",
       "<title>B</title>\n",
       "<ellipse fill=\"none\" stroke=\"black\" cx=\"126\" cy=\"-18\" rx=\"27\" ry=\"18\"/>\n",
       "<text text-anchor=\"middle\" x=\"126\" y=\"-14.3\" font-family=\"Times,serif\" font-size=\"14.00\">B</text>\n",
       "</g>\n",
       "<!-- A&#45;&gt;B -->\n",
       "<g id=\"edge1\" class=\"edge\">\n",
       "<title>A-&gt;B</title>\n",
       "<path fill=\"none\" stroke=\"black\" stroke-dasharray=\"5,2\" d=\"M54.25,-18C64.82,-18 77.18,-18 88.6,-18\"/>\n",
       "<polygon fill=\"black\" stroke=\"black\" points=\"88.73,-21.5 98.73,-18 88.73,-14.5 88.73,-21.5\"/>\n",
       "<text text-anchor=\"middle\" x=\"76.5\" y=\"-21.8\" font-family=\"Times,serif\" font-size=\"14.00\">e</text>\n",
       "</g>\n",
       "<!-- C -->\n",
       "<g id=\"node3\" class=\"node\">\n",
       "<title>C</title>\n",
       "<ellipse fill=\"none\" stroke=\"black\" stroke-width=\"2\" cx=\"27\" cy=\"-72\" rx=\"27\" ry=\"18\"/>\n",
       "<text text-anchor=\"middle\" x=\"27\" y=\"-68.3\" font-family=\"Times,serif\" font-size=\"14.00\">C</text>\n",
       "</g>\n",
       "</g>\n",
       "</svg>"
      ],
      "text/plain": [
       "<IPython.core.display.SVG object>"
      ]
     },
     "execution_count": 3,
     "metadata": {},
     "output_type": "execute_result"
    }
   ],
   "source": [
    "GroupNodeLens(\"e\").focus(graph).show()"
   ]
  },
  {
   "cell_type": "code",
   "execution_count": 4,
   "metadata": {},
   "outputs": [
    {
     "data": {
      "image/svg+xml": [
       "<svg xmlns=\"http://www.w3.org/2000/svg\" xmlns:xlink=\"http://www.w3.org/1999/xlink\" width=\"158pt\" height=\"271pt\" viewBox=\"0.00 0.00 158.00 271.00\">\n",
       "<g id=\"graph0\" class=\"graph\" transform=\"scale(1 1) rotate(0) translate(4 267)\">\n",
       "<title>%3</title>\n",
       "<polygon fill=\"white\" stroke=\"transparent\" points=\"-4,4 -4,-267 154,-267 154,4 -4,4\"/>\n",
       "<!-- A1 -->\n",
       "<g id=\"node1\" class=\"node\">\n",
       "<title>A1</title>\n",
       "<ellipse fill=\"lightgrey\" stroke=\"black\" stroke-width=\"2\" cx=\"27\" cy=\"-137\" rx=\"27\" ry=\"18\"/>\n",
       "<text text-anchor=\"middle\" x=\"27\" y=\"-133.3\" font-family=\"Times,serif\" font-size=\"14.00\">A1</text>\n",
       "</g>\n",
       "<!-- B1 -->\n",
       "<g id=\"node4\" class=\"node\">\n",
       "<title>B1</title>\n",
       "<ellipse fill=\"none\" stroke=\"black\" stroke-width=\"2\" cx=\"123\" cy=\"-148\" rx=\"27\" ry=\"18\"/>\n",
       "<text text-anchor=\"middle\" x=\"123\" y=\"-144.3\" font-family=\"Times,serif\" font-size=\"14.00\">B1</text>\n",
       "</g>\n",
       "<!-- A1&#45;&gt;B1 -->\n",
       "<g id=\"edge1\" class=\"edge\">\n",
       "<title>A1-&gt;B1</title>\n",
       "<path fill=\"none\" stroke=\"gray\" d=\"M53.69,-140.01C63.74,-141.18 75.44,-142.55 86.29,-143.82\"/>\n",
       "<polygon fill=\"gray\" stroke=\"gray\" points=\"86.01,-147.31 96.35,-145 86.82,-140.36 86.01,-147.31\"/>\n",
       "<text text-anchor=\"middle\" x=\"75\" y=\"-145.8\" font-family=\"Times,serif\" font-size=\"14.00\">f</text>\n",
       "</g>\n",
       "<!-- B2 -->\n",
       "<g id=\"node5\" class=\"node\">\n",
       "<title>B2</title>\n",
       "<ellipse fill=\"none\" stroke=\"black\" stroke-width=\"2\" cx=\"123\" cy=\"-72\" rx=\"27\" ry=\"18\"/>\n",
       "<text text-anchor=\"middle\" x=\"123\" y=\"-68.3\" font-family=\"Times,serif\" font-size=\"14.00\">B2</text>\n",
       "</g>\n",
       "<!-- A1&#45;&gt;B2 -->\n",
       "<g id=\"edge2\" class=\"edge\">\n",
       "<title>A1-&gt;B2</title>\n",
       "<path fill=\"none\" stroke=\"gray\" d=\"M46.57,-124.16C60.35,-114.63 79.34,-101.5 94.82,-90.79\"/>\n",
       "<polygon fill=\"gray\" stroke=\"gray\" points=\"97.23,-93.38 103.47,-84.82 93.25,-87.62 97.23,-93.38\"/>\n",
       "<text text-anchor=\"middle\" x=\"75\" y=\"-109.8\" font-family=\"Times,serif\" font-size=\"14.00\">f</text>\n",
       "</g>\n",
       "<!-- A2 -->\n",
       "<g id=\"node2\" class=\"node\">\n",
       "<title>A2</title>\n",
       "<ellipse fill=\"lightgrey\" stroke=\"black\" stroke-width=\"2\" cx=\"27\" cy=\"-72\" rx=\"27\" ry=\"18\"/>\n",
       "<text text-anchor=\"middle\" x=\"27\" y=\"-68.3\" font-family=\"Times,serif\" font-size=\"14.00\">A2</text>\n",
       "</g>\n",
       "<!-- A2&#45;&gt;B2 -->\n",
       "<g id=\"edge3\" class=\"edge\">\n",
       "<title>A2-&gt;B2</title>\n",
       "<path fill=\"none\" stroke=\"black\" d=\"M54.18,-72C63.96,-72 75.25,-72 85.77,-72\"/>\n",
       "<polygon fill=\"black\" stroke=\"black\" points=\"85.96,-75.5 95.96,-72 85.96,-68.5 85.96,-75.5\"/>\n",
       "<text text-anchor=\"middle\" x=\"75\" y=\"-75.8\" font-family=\"Times,serif\" font-size=\"14.00\">f</text>\n",
       "</g>\n",
       "<!-- A3 -->\n",
       "<g id=\"node3\" class=\"node\">\n",
       "<title>A3</title>\n",
       "<ellipse fill=\"lightgrey\" stroke=\"black\" stroke-width=\"2\" cx=\"27\" cy=\"-18\" rx=\"27\" ry=\"18\"/>\n",
       "<text text-anchor=\"middle\" x=\"27\" y=\"-14.3\" font-family=\"Times,serif\" font-size=\"14.00\">A3</text>\n",
       "</g>\n",
       "<!-- A3&#45;&gt;B2 -->\n",
       "<g id=\"edge4\" class=\"edge\">\n",
       "<title>A3-&gt;B2</title>\n",
       "<path fill=\"none\" stroke=\"black\" d=\"M47.93,-29.45C61.15,-37.04 78.68,-47.12 93.38,-55.56\"/>\n",
       "<polygon fill=\"black\" stroke=\"black\" points=\"91.68,-58.62 102.09,-60.56 95.17,-52.55 91.68,-58.62\"/>\n",
       "<text text-anchor=\"middle\" x=\"75\" y=\"-49.8\" font-family=\"Times,serif\" font-size=\"14.00\">f</text>\n",
       "</g>\n",
       "<!-- C1 -->\n",
       "<g id=\"node6\" class=\"node\">\n",
       "<title>C1</title>\n",
       "<ellipse fill=\"none\" stroke=\"black\" stroke-width=\"2\" cx=\"27\" cy=\"-191\" rx=\"27\" ry=\"18\"/>\n",
       "<text text-anchor=\"middle\" x=\"27\" y=\"-187.3\" font-family=\"Times,serif\" font-size=\"14.00\">C1</text>\n",
       "</g>\n",
       "<!-- B3 -->\n",
       "<g id=\"node7\" class=\"node\">\n",
       "<title>B3</title>\n",
       "<ellipse fill=\"none\" stroke=\"black\" stroke-width=\"2\" cx=\"27\" cy=\"-245\" rx=\"27\" ry=\"18\"/>\n",
       "<text text-anchor=\"middle\" x=\"27\" y=\"-241.3\" font-family=\"Times,serif\" font-size=\"14.00\">B3</text>\n",
       "</g>\n",
       "</g>\n",
       "</svg>"
      ],
      "text/plain": [
       "<IPython.core.display.SVG object>"
      ]
     },
     "execution_count": 4,
     "metadata": {},
     "output_type": "execute_result"
    }
   ],
   "source": [
    "AllNodeLens(\"f\").focus(graph).show()"
   ]
  },
  {
   "cell_type": "code",
   "execution_count": 5,
   "metadata": {},
   "outputs": [
    {
     "data": {
      "image/svg+xml": [
       "<svg xmlns=\"http://www.w3.org/2000/svg\" xmlns:xlink=\"http://www.w3.org/1999/xlink\" width=\"158pt\" height=\"98pt\" viewBox=\"0.00 0.00 158.00 98.00\">\n",
       "<g id=\"graph0\" class=\"graph\" transform=\"scale(1 1) rotate(0) translate(4 94)\">\n",
       "<title>%3</title>\n",
       "<polygon fill=\"white\" stroke=\"transparent\" points=\"-4,4 -4,-94 154,-94 154,4 -4,4\"/>\n",
       "<!-- A -->\n",
       "<g id=\"node1\" class=\"node\">\n",
       "<title>A</title>\n",
       "<ellipse fill=\"lightgrey\" stroke=\"black\" cx=\"27\" cy=\"-18\" rx=\"27\" ry=\"18\"/>\n",
       "<text text-anchor=\"middle\" x=\"27\" y=\"-14.3\" font-family=\"Times,serif\" font-size=\"14.00\">A</text>\n",
       "</g>\n",
       "<!-- B -->\n",
       "<g id=\"node2\" class=\"node\">\n",
       "<title>B</title>\n",
       "<ellipse fill=\"none\" stroke=\"black\" cx=\"123\" cy=\"-18\" rx=\"27\" ry=\"18\"/>\n",
       "<text text-anchor=\"middle\" x=\"123\" y=\"-14.3\" font-family=\"Times,serif\" font-size=\"14.00\">B</text>\n",
       "</g>\n",
       "<!-- A&#45;&gt;B -->\n",
       "<g id=\"edge1\" class=\"edge\">\n",
       "<title>A-&gt;B</title>\n",
       "<path fill=\"none\" stroke=\"black\" d=\"M54.18,-18C63.96,-18 75.25,-18 85.77,-18\"/>\n",
       "<polygon fill=\"black\" stroke=\"black\" points=\"85.96,-21.5 95.96,-18 85.96,-14.5 85.96,-21.5\"/>\n",
       "<text text-anchor=\"middle\" x=\"75\" y=\"-21.8\" font-family=\"Times,serif\" font-size=\"14.00\">f</text>\n",
       "</g>\n",
       "<!-- C -->\n",
       "<g id=\"node3\" class=\"node\">\n",
       "<title>C</title>\n",
       "<ellipse fill=\"none\" stroke=\"black\" stroke-width=\"2\" cx=\"27\" cy=\"-72\" rx=\"27\" ry=\"18\"/>\n",
       "<text text-anchor=\"middle\" x=\"27\" y=\"-68.3\" font-family=\"Times,serif\" font-size=\"14.00\">C</text>\n",
       "</g>\n",
       "</g>\n",
       "</svg>"
      ],
      "text/plain": [
       "<IPython.core.display.SVG object>"
      ]
     },
     "execution_count": 5,
     "metadata": {},
     "output_type": "execute_result"
    }
   ],
   "source": [
    "GroupNodeLens(\"f\").focus(graph).show()"
   ]
  },
  {
   "cell_type": "code",
   "execution_count": 6,
   "metadata": {},
   "outputs": [
    {
     "data": {
      "image/svg+xml": [
       "<svg xmlns=\"http://www.w3.org/2000/svg\" xmlns:xlink=\"http://www.w3.org/1999/xlink\" width=\"162pt\" height=\"206pt\" viewBox=\"0.00 0.00 162.00 206.00\">\n",
       "<g id=\"graph0\" class=\"graph\" transform=\"scale(1 1) rotate(0) translate(4 202)\">\n",
       "<title>%3</title>\n",
       "<polygon fill=\"white\" stroke=\"transparent\" points=\"-4,4 -4,-202 158,-202 158,4 -4,4\"/>\n",
       "<!-- A1 -->\n",
       "<g id=\"node1\" class=\"node\">\n",
       "<title>A1</title>\n",
       "<ellipse fill=\"lightgrey\" stroke=\"black\" stroke-width=\"2\" cx=\"27\" cy=\"-18\" rx=\"27\" ry=\"18\"/>\n",
       "<text text-anchor=\"middle\" x=\"27\" y=\"-14.3\" font-family=\"Times,serif\" font-size=\"14.00\">A1</text>\n",
       "</g>\n",
       "<!-- C1 -->\n",
       "<g id=\"node6\" class=\"node\">\n",
       "<title>C1</title>\n",
       "<ellipse fill=\"none\" stroke=\"black\" stroke-width=\"2\" cx=\"127\" cy=\"-18\" rx=\"27\" ry=\"18\"/>\n",
       "<text text-anchor=\"middle\" x=\"127\" y=\"-14.3\" font-family=\"Times,serif\" font-size=\"14.00\">C1</text>\n",
       "</g>\n",
       "<!-- A1&#45;&gt;C1 -->\n",
       "<g id=\"edge1\" class=\"edge\">\n",
       "<title>A1-&gt;C1</title>\n",
       "<path fill=\"none\" stroke=\"black\" d=\"M54,-18C64.97,-18 77.92,-18 89.79,-18\"/>\n",
       "<polygon fill=\"black\" stroke=\"black\" points=\"89.87,-21.5 99.87,-18 89.87,-14.5 89.87,-21.5\"/>\n",
       "<text text-anchor=\"middle\" x=\"77\" y=\"-21.8\" font-family=\"Times,serif\" font-size=\"14.00\">g</text>\n",
       "</g>\n",
       "<!-- A2 -->\n",
       "<g id=\"node2\" class=\"node\">\n",
       "<title>A2</title>\n",
       "<ellipse fill=\"lightgrey\" stroke=\"black\" stroke-width=\"2\" cx=\"27\" cy=\"-72\" rx=\"27\" ry=\"18\"/>\n",
       "<text text-anchor=\"middle\" x=\"27\" y=\"-68.3\" font-family=\"Times,serif\" font-size=\"14.00\">A2</text>\n",
       "</g>\n",
       "<!-- B2 -->\n",
       "<g id=\"node5\" class=\"node\">\n",
       "<title>B2</title>\n",
       "<ellipse fill=\"none\" stroke=\"black\" stroke-width=\"2\" cx=\"127\" cy=\"-72\" rx=\"27\" ry=\"18\"/>\n",
       "<text text-anchor=\"middle\" x=\"127\" y=\"-68.3\" font-family=\"Times,serif\" font-size=\"14.00\">B2</text>\n",
       "</g>\n",
       "<!-- A2&#45;&gt;B2 -->\n",
       "<g id=\"edge2\" class=\"edge\">\n",
       "<title>A2-&gt;B2</title>\n",
       "<path fill=\"none\" stroke=\"black\" d=\"M54,-72C64.97,-72 77.92,-72 89.79,-72\"/>\n",
       "<polygon fill=\"black\" stroke=\"black\" points=\"89.87,-75.5 99.87,-72 89.87,-68.5 89.87,-75.5\"/>\n",
       "<text text-anchor=\"middle\" x=\"77\" y=\"-75.8\" font-family=\"Times,serif\" font-size=\"14.00\">g</text>\n",
       "</g>\n",
       "<!-- A3 -->\n",
       "<g id=\"node3\" class=\"node\">\n",
       "<title>A3</title>\n",
       "<ellipse fill=\"lightgrey\" stroke=\"black\" stroke-width=\"2\" cx=\"27\" cy=\"-126\" rx=\"27\" ry=\"18\"/>\n",
       "<text text-anchor=\"middle\" x=\"27\" y=\"-122.3\" font-family=\"Times,serif\" font-size=\"14.00\">A3</text>\n",
       "</g>\n",
       "<!-- B3 -->\n",
       "<g id=\"node7\" class=\"node\">\n",
       "<title>B3</title>\n",
       "<ellipse fill=\"none\" stroke=\"black\" stroke-width=\"2\" cx=\"127\" cy=\"-126\" rx=\"27\" ry=\"18\"/>\n",
       "<text text-anchor=\"middle\" x=\"127\" y=\"-122.3\" font-family=\"Times,serif\" font-size=\"14.00\">B3</text>\n",
       "</g>\n",
       "<!-- A3&#45;&gt;B3 -->\n",
       "<g id=\"edge3\" class=\"edge\">\n",
       "<title>A3-&gt;B3</title>\n",
       "<path fill=\"none\" stroke=\"black\" d=\"M54,-126C64.97,-126 77.92,-126 89.79,-126\"/>\n",
       "<polygon fill=\"black\" stroke=\"black\" points=\"89.87,-129.5 99.87,-126 89.87,-122.5 89.87,-129.5\"/>\n",
       "<text text-anchor=\"middle\" x=\"77\" y=\"-129.8\" font-family=\"Times,serif\" font-size=\"14.00\">g</text>\n",
       "</g>\n",
       "<!-- B1 -->\n",
       "<g id=\"node4\" class=\"node\">\n",
       "<title>B1</title>\n",
       "<ellipse fill=\"none\" stroke=\"black\" stroke-width=\"2\" cx=\"27\" cy=\"-180\" rx=\"27\" ry=\"18\"/>\n",
       "<text text-anchor=\"middle\" x=\"27\" y=\"-176.3\" font-family=\"Times,serif\" font-size=\"14.00\">B1</text>\n",
       "</g>\n",
       "</g>\n",
       "</svg>"
      ],
      "text/plain": [
       "<IPython.core.display.SVG object>"
      ]
     },
     "execution_count": 6,
     "metadata": {},
     "output_type": "execute_result"
    }
   ],
   "source": [
    "AllNodeLens(\"g\").focus(graph).show()"
   ]
  },
  {
   "cell_type": "code",
   "execution_count": 7,
   "metadata": {},
   "outputs": [
    {
     "data": {
      "image/svg+xml": [
       "<svg xmlns=\"http://www.w3.org/2000/svg\" xmlns:xlink=\"http://www.w3.org/1999/xlink\" width=\"162pt\" height=\"98pt\" viewBox=\"0.00 0.00 162.00 98.00\">\n",
       "<g id=\"graph0\" class=\"graph\" transform=\"scale(1 1) rotate(0) translate(4 94)\">\n",
       "<title>%3</title>\n",
       "<polygon fill=\"white\" stroke=\"transparent\" points=\"-4,4 -4,-94 158,-94 158,4 -4,4\"/>\n",
       "<!-- A -->\n",
       "<g id=\"node1\" class=\"node\">\n",
       "<title>A</title>\n",
       "<ellipse fill=\"lightgrey\" stroke=\"black\" cx=\"27\" cy=\"-45\" rx=\"27\" ry=\"18\"/>\n",
       "<text text-anchor=\"middle\" x=\"27\" y=\"-41.3\" font-family=\"Times,serif\" font-size=\"14.00\">A</text>\n",
       "</g>\n",
       "<!-- B -->\n",
       "<g id=\"node2\" class=\"node\">\n",
       "<title>B</title>\n",
       "<ellipse fill=\"none\" stroke=\"black\" cx=\"127\" cy=\"-72\" rx=\"27\" ry=\"18\"/>\n",
       "<text text-anchor=\"middle\" x=\"127\" y=\"-68.3\" font-family=\"Times,serif\" font-size=\"14.00\">B</text>\n",
       "</g>\n",
       "<!-- A&#45;&gt;B -->\n",
       "<g id=\"edge1\" class=\"edge\">\n",
       "<title>A-&gt;B</title>\n",
       "<path fill=\"none\" stroke=\"gray\" d=\"M52.22,-51.67C64.24,-54.98 78.95,-59.04 92.07,-62.65\"/>\n",
       "<polygon fill=\"gray\" stroke=\"gray\" points=\"91.14,-66.03 101.71,-65.31 93,-59.28 91.14,-66.03\"/>\n",
       "<text text-anchor=\"middle\" x=\"77\" y=\"-62.8\" font-family=\"Times,serif\" font-size=\"14.00\">g</text>\n",
       "</g>\n",
       "<!-- C -->\n",
       "<g id=\"node3\" class=\"node\">\n",
       "<title>C</title>\n",
       "<ellipse fill=\"none\" stroke=\"black\" stroke-width=\"2\" cx=\"127\" cy=\"-18\" rx=\"27\" ry=\"18\"/>\n",
       "<text text-anchor=\"middle\" x=\"127\" y=\"-14.3\" font-family=\"Times,serif\" font-size=\"14.00\">C</text>\n",
       "</g>\n",
       "<!-- A&#45;&gt;C -->\n",
       "<g id=\"edge2\" class=\"edge\">\n",
       "<title>A-&gt;C</title>\n",
       "<path fill=\"none\" stroke=\"gray\" d=\"M52.22,-38.33C64.24,-35.02 78.95,-30.96 92.07,-27.35\"/>\n",
       "<polygon fill=\"gray\" stroke=\"gray\" points=\"93,-30.72 101.71,-24.69 91.14,-23.97 93,-30.72\"/>\n",
       "<text text-anchor=\"middle\" x=\"77\" y=\"-35.8\" font-family=\"Times,serif\" font-size=\"14.00\">g</text>\n",
       "</g>\n",
       "</g>\n",
       "</svg>"
      ],
      "text/plain": [
       "<IPython.core.display.SVG object>"
      ]
     },
     "execution_count": 7,
     "metadata": {},
     "output_type": "execute_result"
    }
   ],
   "source": [
    "GroupNodeLens(\"g\").focus(graph).show()"
   ]
  },
  {
   "cell_type": "code",
   "execution_count": 8,
   "metadata": {},
   "outputs": [
    {
     "data": {
      "image/svg+xml": [
       "<svg xmlns=\"http://www.w3.org/2000/svg\" xmlns:xlink=\"http://www.w3.org/1999/xlink\" width=\"162pt\" height=\"260pt\" viewBox=\"0.00 0.00 162.00 260.00\">\n",
       "<g id=\"graph0\" class=\"graph\" transform=\"scale(1 1) rotate(0) translate(4 256)\">\n",
       "<title>%3</title>\n",
       "<polygon fill=\"white\" stroke=\"transparent\" points=\"-4,4 -4,-256 158,-256 158,4 -4,4\"/>\n",
       "<!-- A1 -->\n",
       "<g id=\"node1\" class=\"node\">\n",
       "<title>A1</title>\n",
       "<ellipse fill=\"lightgrey\" stroke=\"black\" stroke-width=\"2\" cx=\"27\" cy=\"-18\" rx=\"27\" ry=\"18\"/>\n",
       "<text text-anchor=\"middle\" x=\"27\" y=\"-14.3\" font-family=\"Times,serif\" font-size=\"14.00\">A1</text>\n",
       "</g>\n",
       "<!-- C1 -->\n",
       "<g id=\"node6\" class=\"node\">\n",
       "<title>C1</title>\n",
       "<ellipse fill=\"none\" stroke=\"black\" stroke-width=\"2\" cx=\"127\" cy=\"-18\" rx=\"27\" ry=\"18\"/>\n",
       "<text text-anchor=\"middle\" x=\"127\" y=\"-14.3\" font-family=\"Times,serif\" font-size=\"14.00\">C1</text>\n",
       "</g>\n",
       "<!-- A1&#45;&gt;C1 -->\n",
       "<g id=\"edge1\" class=\"edge\">\n",
       "<title>A1-&gt;C1</title>\n",
       "<path fill=\"none\" stroke=\"black\" d=\"M54,-18C64.97,-18 77.92,-18 89.79,-18\"/>\n",
       "<polygon fill=\"black\" stroke=\"black\" points=\"89.87,-21.5 99.87,-18 89.87,-14.5 89.87,-21.5\"/>\n",
       "<text text-anchor=\"middle\" x=\"77\" y=\"-21.8\" font-family=\"Times,serif\" font-size=\"14.00\">h</text>\n",
       "</g>\n",
       "<!-- A2 -->\n",
       "<g id=\"node2\" class=\"node\">\n",
       "<title>A2</title>\n",
       "<ellipse fill=\"lightgrey\" stroke=\"black\" stroke-width=\"2\" cx=\"27\" cy=\"-72\" rx=\"27\" ry=\"18\"/>\n",
       "<text text-anchor=\"middle\" x=\"27\" y=\"-68.3\" font-family=\"Times,serif\" font-size=\"14.00\">A2</text>\n",
       "</g>\n",
       "<!-- B2 -->\n",
       "<g id=\"node5\" class=\"node\">\n",
       "<title>B2</title>\n",
       "<ellipse fill=\"none\" stroke=\"black\" stroke-width=\"2\" cx=\"127\" cy=\"-72\" rx=\"27\" ry=\"18\"/>\n",
       "<text text-anchor=\"middle\" x=\"127\" y=\"-68.3\" font-family=\"Times,serif\" font-size=\"14.00\">B2</text>\n",
       "</g>\n",
       "<!-- A2&#45;&gt;B2 -->\n",
       "<g id=\"edge2\" class=\"edge\">\n",
       "<title>A2-&gt;B2</title>\n",
       "<path fill=\"none\" stroke=\"black\" d=\"M54,-72C64.97,-72 77.92,-72 89.79,-72\"/>\n",
       "<polygon fill=\"black\" stroke=\"black\" points=\"89.87,-75.5 99.87,-72 89.87,-68.5 89.87,-75.5\"/>\n",
       "<text text-anchor=\"middle\" x=\"77\" y=\"-75.8\" font-family=\"Times,serif\" font-size=\"14.00\">h</text>\n",
       "</g>\n",
       "<!-- A3 -->\n",
       "<g id=\"node3\" class=\"node\">\n",
       "<title>A3</title>\n",
       "<ellipse fill=\"lightgrey\" stroke=\"black\" stroke-width=\"2\" cx=\"27\" cy=\"-126\" rx=\"27\" ry=\"18\"/>\n",
       "<text text-anchor=\"middle\" x=\"27\" y=\"-122.3\" font-family=\"Times,serif\" font-size=\"14.00\">A3</text>\n",
       "</g>\n",
       "<!-- B1 -->\n",
       "<g id=\"node4\" class=\"node\">\n",
       "<title>B1</title>\n",
       "<ellipse fill=\"none\" stroke=\"black\" stroke-width=\"2\" cx=\"27\" cy=\"-180\" rx=\"27\" ry=\"18\"/>\n",
       "<text text-anchor=\"middle\" x=\"27\" y=\"-176.3\" font-family=\"Times,serif\" font-size=\"14.00\">B1</text>\n",
       "</g>\n",
       "<!-- B3 -->\n",
       "<g id=\"node7\" class=\"node\">\n",
       "<title>B3</title>\n",
       "<ellipse fill=\"none\" stroke=\"black\" stroke-width=\"2\" cx=\"27\" cy=\"-234\" rx=\"27\" ry=\"18\"/>\n",
       "<text text-anchor=\"middle\" x=\"27\" y=\"-230.3\" font-family=\"Times,serif\" font-size=\"14.00\">B3</text>\n",
       "</g>\n",
       "</g>\n",
       "</svg>"
      ],
      "text/plain": [
       "<IPython.core.display.SVG object>"
      ]
     },
     "execution_count": 8,
     "metadata": {},
     "output_type": "execute_result"
    }
   ],
   "source": [
    "AllNodeLens(\"h\").focus(graph).show()"
   ]
  },
  {
   "cell_type": "code",
   "execution_count": 9,
   "metadata": {},
   "outputs": [
    {
     "data": {
      "image/svg+xml": [
       "<svg xmlns=\"http://www.w3.org/2000/svg\" xmlns:xlink=\"http://www.w3.org/1999/xlink\" width=\"162pt\" height=\"98pt\" viewBox=\"0.00 0.00 162.00 98.00\">\n",
       "<g id=\"graph0\" class=\"graph\" transform=\"scale(1 1) rotate(0) translate(4 94)\">\n",
       "<title>%3</title>\n",
       "<polygon fill=\"white\" stroke=\"transparent\" points=\"-4,4 -4,-94 158,-94 158,4 -4,4\"/>\n",
       "<!-- A -->\n",
       "<g id=\"node1\" class=\"node\">\n",
       "<title>A</title>\n",
       "<ellipse fill=\"lightgrey\" stroke=\"black\" cx=\"27\" cy=\"-45\" rx=\"27\" ry=\"18\"/>\n",
       "<text text-anchor=\"middle\" x=\"27\" y=\"-41.3\" font-family=\"Times,serif\" font-size=\"14.00\">A</text>\n",
       "</g>\n",
       "<!-- B -->\n",
       "<g id=\"node2\" class=\"node\">\n",
       "<title>B</title>\n",
       "<ellipse fill=\"none\" stroke=\"black\" cx=\"127\" cy=\"-72\" rx=\"27\" ry=\"18\"/>\n",
       "<text text-anchor=\"middle\" x=\"127\" y=\"-68.3\" font-family=\"Times,serif\" font-size=\"14.00\">B</text>\n",
       "</g>\n",
       "<!-- A&#45;&gt;B -->\n",
       "<g id=\"edge1\" class=\"edge\">\n",
       "<title>A-&gt;B</title>\n",
       "<path fill=\"none\" stroke=\"gray\" stroke-dasharray=\"5,2\" d=\"M52.22,-51.67C64.24,-54.98 78.95,-59.04 92.07,-62.65\"/>\n",
       "<polygon fill=\"gray\" stroke=\"gray\" points=\"91.14,-66.03 101.71,-65.31 93,-59.28 91.14,-66.03\"/>\n",
       "<text text-anchor=\"middle\" x=\"77\" y=\"-62.8\" font-family=\"Times,serif\" font-size=\"14.00\">h</text>\n",
       "</g>\n",
       "<!-- C -->\n",
       "<g id=\"node3\" class=\"node\">\n",
       "<title>C</title>\n",
       "<ellipse fill=\"none\" stroke=\"black\" stroke-width=\"2\" cx=\"127\" cy=\"-18\" rx=\"27\" ry=\"18\"/>\n",
       "<text text-anchor=\"middle\" x=\"127\" y=\"-14.3\" font-family=\"Times,serif\" font-size=\"14.00\">C</text>\n",
       "</g>\n",
       "<!-- A&#45;&gt;C -->\n",
       "<g id=\"edge2\" class=\"edge\">\n",
       "<title>A-&gt;C</title>\n",
       "<path fill=\"none\" stroke=\"gray\" stroke-dasharray=\"5,2\" d=\"M52.22,-38.33C64.24,-35.02 78.95,-30.96 92.07,-27.35\"/>\n",
       "<polygon fill=\"gray\" stroke=\"gray\" points=\"93,-30.72 101.71,-24.69 91.14,-23.97 93,-30.72\"/>\n",
       "<text text-anchor=\"middle\" x=\"77\" y=\"-35.8\" font-family=\"Times,serif\" font-size=\"14.00\">h</text>\n",
       "</g>\n",
       "</g>\n",
       "</svg>"
      ],
      "text/plain": [
       "<IPython.core.display.SVG object>"
      ]
     },
     "execution_count": 9,
     "metadata": {},
     "output_type": "execute_result"
    }
   ],
   "source": [
    "GroupNodeLens(\"h\").focus(graph).show()"
   ]
  },
  {
   "cell_type": "code",
   "execution_count": 12,
   "metadata": {},
   "outputs": [
    {
     "ename": "ValueError",
     "evalue": "Node names and attributes should not contain \":\" unless they are quoted with \"\".                For example the string 'attribute:data1' should be written as '\"attribute:data1\"'.                Please refer https://github.com/pydot/pydot/issues/258",
     "output_type": "error",
     "traceback": [
      "\u001b[1;31m---------------------------------------------------------------------------\u001b[0m",
      "\u001b[1;31mValueError\u001b[0m                                Traceback (most recent call last)",
      "Cell \u001b[1;32mIn[12], line 1\u001b[0m\n\u001b[1;32m----> 1\u001b[0m \u001b[43mIdentityLens\u001b[49m\u001b[43m(\u001b[49m\u001b[43m)\u001b[49m\u001b[38;5;241;43m.\u001b[39;49m\u001b[43mfocus\u001b[49m\u001b[43m(\u001b[49m\u001b[43mgraph\u001b[49m\u001b[43m)\u001b[49m\u001b[38;5;241;43m.\u001b[39;49m\u001b[43mshow\u001b[49m\u001b[43m(\u001b[49m\u001b[43m)\u001b[49m\n",
      "File \u001b[1;32mc:\\Users\\Gebruiker\\Documents\\projects\\tic-tac-tla\\projection.py:295\u001b[0m, in \u001b[0;36mProjection.show\u001b[1;34m(self)\u001b[0m\n\u001b[0;32m    293\u001b[0m \u001b[38;5;28;01mwith\u001b[39;00m tempfile\u001b[38;5;241m.\u001b[39mTemporaryDirectory() \u001b[38;5;28;01mas\u001b[39;00m tmpdir:\n\u001b[0;32m    294\u001b[0m     dot_file \u001b[38;5;241m=\u001b[39m os\u001b[38;5;241m.\u001b[39mpath\u001b[38;5;241m.\u001b[39mjoin(tmpdir, \u001b[38;5;124m'\u001b[39m\u001b[38;5;124mgraph.dot\u001b[39m\u001b[38;5;124m'\u001b[39m)\n\u001b[1;32m--> 295\u001b[0m     \u001b[38;5;28;43mself\u001b[39;49m\u001b[38;5;241;43m.\u001b[39;49m\u001b[43mto_dot\u001b[49m\u001b[43m(\u001b[49m\u001b[43mdot_file\u001b[49m\u001b[43m)\u001b[49m\n\u001b[0;32m    297\u001b[0m     cmd \u001b[38;5;241m=\u001b[39m [\u001b[38;5;124m\"\u001b[39m\u001b[38;5;124mwsl.exe\u001b[39m\u001b[38;5;124m\"\u001b[39m, \u001b[38;5;124m\"\u001b[39m\u001b[38;5;124m-e\u001b[39m\u001b[38;5;124m\"\u001b[39m, \u001b[38;5;124m\"\u001b[39m\u001b[38;5;124mdot\u001b[39m\u001b[38;5;124m\"\u001b[39m, \u001b[38;5;124m\"\u001b[39m\u001b[38;5;124m-Tsvg\u001b[39m\u001b[38;5;124m\"\u001b[39m, \u001b[38;5;124m\"\u001b[39m\u001b[38;5;124m-o\u001b[39m\u001b[38;5;124m\"\u001b[39m, \u001b[38;5;124m\"\u001b[39m\u001b[38;5;124mgraph.svg\u001b[39m\u001b[38;5;124m\"\u001b[39m, \u001b[38;5;124m\"\u001b[39m\u001b[38;5;124mgraph.dot\u001b[39m\u001b[38;5;124m\"\u001b[39m]\n\u001b[0;32m    298\u001b[0m     subprocess\u001b[38;5;241m.\u001b[39mrun(cmd, cwd\u001b[38;5;241m=\u001b[39mtmpdir, check \u001b[38;5;241m=\u001b[39m \u001b[38;5;28;01mTrue\u001b[39;00m)\n",
      "File \u001b[1;32mc:\\Users\\Gebruiker\\Documents\\projects\\tic-tac-tla\\projection.py:283\u001b[0m, in \u001b[0;36mProjection.to_dot\u001b[1;34m(self, file)\u001b[0m\n\u001b[0;32m    279\u001b[0m             label \u001b[38;5;241m=\u001b[39m label \u001b[38;5;241m+\u001b[39m \u001b[38;5;124mf\u001b[39m\u001b[38;5;124m\"\u001b[39m\u001b[38;5;130;01m\\n\u001b[39;00m\u001b[38;5;124m#\u001b[39m\u001b[38;5;132;01m{\u001b[39;00mcount\u001b[38;5;132;01m}\u001b[39;00m\u001b[38;5;124m\"\u001b[39m\n\u001b[0;32m    281\u001b[0m         g\u001b[38;5;241m.\u001b[39madd_edge(s,d, label\u001b[38;5;241m=\u001b[39mlabel, \u001b[38;5;241m*\u001b[39m\u001b[38;5;241m*\u001b[39mextra)\n\u001b[1;32m--> 283\u001b[0m d: pydot\u001b[38;5;241m.\u001b[39mDot \u001b[38;5;241m=\u001b[39m \u001b[43mnetworkx\u001b[49m\u001b[38;5;241;43m.\u001b[39;49m\u001b[43mnx_pydot\u001b[49m\u001b[38;5;241;43m.\u001b[39;49m\u001b[43mto_pydot\u001b[49m\u001b[43m(\u001b[49m\u001b[43mg\u001b[49m\u001b[43m)\u001b[49m\n\u001b[0;32m    284\u001b[0m d\u001b[38;5;241m.\u001b[39mset(\u001b[38;5;124m\"\u001b[39m\u001b[38;5;124mrankdir\u001b[39m\u001b[38;5;124m\"\u001b[39m, \u001b[38;5;124m\"\u001b[39m\u001b[38;5;124mLR\u001b[39m\u001b[38;5;124m\"\u001b[39m)\n\u001b[0;32m    285\u001b[0m d\u001b[38;5;241m.\u001b[39mwrite(file)\n",
      "File \u001b[1;32mc:\\Users\\Gebruiker\\.virtualenvs\\tic-tac-tla-BsbfKQhp\\lib\\site-packages\\networkx\\drawing\\nx_pydot.py:265\u001b[0m, in \u001b[0;36mto_pydot\u001b[1;34m(N)\u001b[0m\n\u001b[0;32m    258\u001b[0m raise_error \u001b[38;5;241m=\u001b[39m _check_colon_quotes(n) \u001b[38;5;129;01mor\u001b[39;00m (\n\u001b[0;32m    259\u001b[0m     \u001b[38;5;28many\u001b[39m(\n\u001b[0;32m    260\u001b[0m         (_check_colon_quotes(k) \u001b[38;5;129;01mor\u001b[39;00m _check_colon_quotes(v))\n\u001b[0;32m    261\u001b[0m         \u001b[38;5;28;01mfor\u001b[39;00m k, v \u001b[38;5;129;01min\u001b[39;00m str_nodedata\u001b[38;5;241m.\u001b[39mitems()\n\u001b[0;32m    262\u001b[0m     )\n\u001b[0;32m    263\u001b[0m )\n\u001b[0;32m    264\u001b[0m \u001b[38;5;28;01mif\u001b[39;00m raise_error:\n\u001b[1;32m--> 265\u001b[0m     \u001b[38;5;28;01mraise\u001b[39;00m \u001b[38;5;167;01mValueError\u001b[39;00m(\n\u001b[0;32m    266\u001b[0m         \u001b[38;5;124mf\u001b[39m\u001b[38;5;124m'\u001b[39m\u001b[38;5;124mNode names and attributes should not contain \u001b[39m\u001b[38;5;124m\"\u001b[39m\u001b[38;5;124m:\u001b[39m\u001b[38;5;124m\"\u001b[39m\u001b[38;5;124m unless they are quoted with \u001b[39m\u001b[38;5;124m\"\u001b[39m\u001b[38;5;124m\"\u001b[39m\u001b[38;5;124m.\u001b[39m\u001b[38;5;130;01m\\\u001b[39;00m\n\u001b[0;32m    267\u001b[0m \u001b[38;5;124m        For example the string \u001b[39m\u001b[38;5;130;01m\\'\u001b[39;00m\u001b[38;5;124mattribute:data1\u001b[39m\u001b[38;5;130;01m\\'\u001b[39;00m\u001b[38;5;124m should be written as \u001b[39m\u001b[38;5;130;01m\\'\u001b[39;00m\u001b[38;5;124m\"\u001b[39m\u001b[38;5;124mattribute:data1\u001b[39m\u001b[38;5;124m\"\u001b[39m\u001b[38;5;130;01m\\'\u001b[39;00m\u001b[38;5;124m.\u001b[39m\u001b[38;5;130;01m\\\u001b[39;00m\n\u001b[0;32m    268\u001b[0m \u001b[38;5;124m        Please refer https://github.com/pydot/pydot/issues/258\u001b[39m\u001b[38;5;124m'\u001b[39m\n\u001b[0;32m    269\u001b[0m     )\n\u001b[0;32m    270\u001b[0m p \u001b[38;5;241m=\u001b[39m pydot\u001b[38;5;241m.\u001b[39mNode(n, \u001b[38;5;241m*\u001b[39m\u001b[38;5;241m*\u001b[39mstr_nodedata)\n\u001b[0;32m    271\u001b[0m P\u001b[38;5;241m.\u001b[39madd_node(p)\n",
      "\u001b[1;31mValueError\u001b[0m: Node names and attributes should not contain \":\" unless they are quoted with \"\".                For example the string 'attribute:data1' should be written as '\"attribute:data1\"'.                Please refer https://github.com/pydot/pydot/issues/258"
     ]
    }
   ],
   "source": [
    "#IdentityLens().focus(graph).show()"
   ]
  }
 ],
 "metadata": {
  "kernelspec": {
   "display_name": "tic-tac-tla-BsbfKQhp",
   "language": "python",
   "name": "python3"
  },
  "language_info": {
   "codemirror_mode": {
    "name": "ipython",
    "version": 3
   },
   "file_extension": ".py",
   "mimetype": "text/x-python",
   "name": "python",
   "nbconvert_exporter": "python",
   "pygments_lexer": "ipython3",
   "version": "3.9.2"
  }
 },
 "nbformat": 4,
 "nbformat_minor": 2
}
